{
 "cells": [
  {
   "cell_type": "markdown",
   "metadata": {},
   "source": [
    "## Traditional LLL"
   ]
  },
  {
   "cell_type": "code",
   "execution_count": null,
   "metadata": {
    "id": "kYdSbZ7h0RW3"
   },
   "outputs": [],
   "source": [
    "#main\n",
    "from fractions import Fraction\n",
    "import numpy as np\n",
    "import timeit\n",
    "\n",
    "\n",
    "loop = 20\n",
    "\n",
    "\n",
    "class Vector(list):\n",
    "    def __init__(self, x):\n",
    "        super().__init__(x)\n",
    "\n",
    "    def dot(self, other):\n",
    "        return sum(map(lambda x: x[0] * x[1], zip(self, Vector(other))))\n",
    "\n",
    "    def sdot(self):\n",
    "        return self.dot(self)\n",
    "\n",
    "    def proj_coff(self, other):\n",
    "        return self.dot(Vector(other)) / self.sdot()\n",
    "\n",
    "    def proj(self, other):\n",
    "        return self.proj_coff(Vector(other)) * self\n",
    "\n",
    "    def __sub__(self, other):\n",
    "        return Vector(x - y for x, y in zip(self, Vector(other)))\n",
    "    \n",
    "    def __add__(self, other):\n",
    "        return Vector(x + y for x, y in zip(self, Vector(other)))\n",
    "\n",
    "    def __mul__(self, other):\n",
    "        return Vector(x * other for x in self)\n",
    "\n",
    "    def __rmul__(self, other):\n",
    "        return Vector(x * other for x in self)\n",
    "\n",
    "\n",
    "\n",
    "def gramschmidt(v): # returns gram-schmidt orthogonalized vectors\n",
    "    u = []\n",
    "    for vi in v:\n",
    "        ui = Vector(vi)\n",
    "        for uj in u:\n",
    "            ui = ui - uj.proj(vi)\n",
    "        if any(ui): #if any element is non-zero \n",
    "            u.append(ui)\n",
    "    return u\n",
    "    \n",
    "\n",
    "def reduction(basis, delta = 0.75) : #our main func\n",
    "    n = len(basis)\n",
    "    basis = list(map(Vector, basis))\n",
    "    ortho = gramschmidt(basis)\n",
    "\n",
    "    def mu(i, j):   #returns gram-schmidt coeffs\n",
    "        return ortho[j].proj_coff(basis[i])\n",
    "\n",
    "    k = 1\n",
    "    while k < n:\n",
    "        for j in range(k - 1, -1, -1): #check for all j< k\n",
    "            mu_kj = mu(k, j)\n",
    "            if abs(mu_kj) > 0.5: # size condition\n",
    "                basis[k] = basis[k] - basis[j] * round(mu_kj)\n",
    "                ortho = gramschmidt(basis)\n",
    "\n",
    "        if ortho[k].sdot() >= (delta - mu(k, k - 1)**2) * ortho[k - 1].sdot(): #lovasz condition\n",
    "            k += 1\n",
    "        else:\n",
    "            basis[k], basis[k - 1] = basis[k - 1], basis[k] #swap both\n",
    "            ortho = gramschmidt(basis)\n",
    "            k = max(k - 1, 1)\n",
    "\n",
    "    return [list(map(int, b)) for b in basis]"
   ]
  },
  {
   "cell_type": "markdown",
   "metadata": {},
   "source": [
    "## Improved LLL"
   ]
  },
  {
   "cell_type": "code",
   "execution_count": null,
   "metadata": {
    "id": "SMPAeGc2yX6s"
   },
   "outputs": [],
   "source": [
    "#improved\n",
    "def gramschmidt_up(ortho,k,basis):\n",
    "    for i1 in range(k-1,k+1):\n",
    "        ui = Vector(basis[i1])\n",
    "        for i2 in range(0,i1):\n",
    "            ui = ui - ortho[i2].proj(basis[i1])\n",
    "        if any(ui): #if any element is non-zero \n",
    "            ortho[i1] = ui\n",
    "    return ortho\n",
    "\n",
    "\n",
    "def reduction_(basis, delta = 0.75) : #our main func\n",
    "    n = len(basis)\n",
    "    basis = list(map(Vector, basis))\n",
    "    ortho = gramschmidt(basis)\n",
    "\n",
    "    def mu(i, j):   #returns gram-schmidt coeffs\n",
    "        return ortho[j].proj_coff(basis[i])\n",
    "\n",
    "    k = 1\n",
    "    while k < n:\n",
    "        for j in range(k - 1, -1, -1): #check for all j< k\n",
    "            mu_kj = mu(k, j)\n",
    "            if abs(mu_kj) > 0.5: # size condition\n",
    "                basis[k] = basis[k] - basis[j] * round(mu_kj)\n",
    "\n",
    "        if ortho[k].sdot() >= (delta - mu(k, k - 1)**2) * ortho[k - 1].sdot(): #lovasz condition\n",
    "            k += 1\n",
    "        else:\n",
    "            basis[k], basis[k - 1] = basis[k - 1], basis[k] #swap both\n",
    "            ortho = gramschmidt_up(ortho,k,basis)\n",
    "            k = max(k - 1, 1)\n",
    "\n",
    "    return [list(map(int, b)) for b in basis]     "
   ]
  },
  {
   "cell_type": "markdown",
   "metadata": {},
   "source": [
    "## Examples:"
   ]
  },
  {
   "cell_type": "code",
   "execution_count": null,
   "metadata": {
    "colab": {
     "base_uri": "https://localhost:8080/"
    },
    "id": "et1r9Zl40y33",
    "outputId": "43cb3cd6-5f95-45a4-edac-8c98fbe0fa7e"
   },
   "outputs": [
    {
     "data": {
      "text/plain": [
       "[[47, -215], [189, 30]]"
      ]
     },
     "execution_count": 3,
     "metadata": {
      "tags": []
     },
     "output_type": "execute_result"
    }
   ],
   "source": [
    "reduction([[47,-215], [95, 460]], 0.75)"
   ]
  },
  {
   "cell_type": "code",
   "execution_count": null,
   "metadata": {
    "colab": {
     "base_uri": "https://localhost:8080/"
    },
    "id": "IJFB-jNc2t23",
    "outputId": "acbca5bc-bc53-462f-e8cc-62f34d27b1af"
   },
   "outputs": [
    {
     "data": {
      "text/plain": [
       "[[1, 30], [40, 5]]"
      ]
     },
     "execution_count": 5,
     "metadata": {
      "tags": []
     },
     "output_type": "execute_result"
    }
   ],
   "source": [
    "reduction_([[47,215], [95, 460]], 0.75)"
   ]
  },
  {
   "cell_type": "code",
   "execution_count": null,
   "metadata": {
    "colab": {
     "base_uri": "https://localhost:8080/"
    },
    "id": "FHFdZ8zzvjda",
    "outputId": "5b3b0eaa-fa71-474f-ed66-eb67e5f9a28c"
   },
   "outputs": [
    {
     "name": "stdout",
     "output_type": "stream",
     "text": [
      "0.0011039768199998434\n"
     ]
    }
   ],
   "source": [
    "result = timeit.timeit('reduction([[47,215], [95, 460]], 0.75)', globals=globals(), number=loop)\n",
    "print(result / loop)"
   ]
  },
  {
   "cell_type": "code",
   "execution_count": null,
   "metadata": {
    "colab": {
     "base_uri": "https://localhost:8080/"
    },
    "id": "EnpuqWK01EYX",
    "outputId": "6e0d41d8-c237-45b7-aa7e-fe277a377760"
   },
   "outputs": [
    {
     "data": {
      "text/plain": [
       "[[-2, 0, 1, -2], [-167, -408, 372, 352], [-854, 577, 19, 863]]"
      ]
     },
     "execution_count": 6,
     "metadata": {
      "tags": []
     },
     "output_type": "execute_result"
    }
   ],
   "source": [
    "reduction([[1, 0,0, 1000000], [0, 1, 0, 1414213],[0,0,1,1999998]], 0.75)"
   ]
  },
  {
   "cell_type": "code",
   "execution_count": null,
   "metadata": {
    "colab": {
     "base_uri": "https://localhost:8080/"
    },
    "id": "C9ePE4Ji1aJH",
    "outputId": "8256e1e3-41b1-45df-9418-7a2377dfb30e"
   },
   "outputs": [
    {
     "data": {
      "text/plain": [
       "[[-6, 3], [6, 5]]"
      ]
     },
     "execution_count": 10,
     "metadata": {
      "tags": []
     },
     "output_type": "execute_result"
    }
   ],
   "source": [
    "reduction([[6,5],[12,18]])"
   ]
  },
  {
   "cell_type": "code",
   "execution_count": null,
   "metadata": {
    "colab": {
     "base_uri": "https://localhost:8080/"
    },
    "id": "2nqLVA0oFN1K",
    "outputId": "baf3cde7-6a03-417e-c8c4-6b6bf1acdc09"
   },
   "outputs": [
    {
     "name": "stdout",
     "output_type": "stream",
     "text": [
      "0.0006132918999999788\n"
     ]
    }
   ],
   "source": [
    "result = timeit.timeit('reduction([[6,5],[12,18]],0.75)', globals=globals(), number=loop)\n",
    "print(result / loop)"
   ]
  },
  {
   "cell_type": "code",
   "execution_count": null,
   "metadata": {
    "colab": {
     "base_uri": "https://localhost:8080/"
    },
    "id": "IEjS5XYgdFXA",
    "outputId": "67817118-8687-4ffa-9eeb-b49cd3a3cc23"
   },
   "outputs": [
    {
     "data": {
      "text/plain": [
       "array([[ 109,  341, -322,   79,  -77,  468, -487, -124,  -57, -151],\n",
       "       [-146, -133,  440,  117, -106, -224,  490,  306, -415,  394],\n",
       "       [-408,   33,  481, -208,   62, -161,  -64, -468,  188,  174],\n",
       "       [-441, -453, -488, -166,  409,   -3, -478,  442,   -1, -215],\n",
       "       [-224,  255,  100,  -74,  464,  280,  -37,  419, -102,    9],\n",
       "       [ 139,  333,  -65,  375, -258,  270,  172,   53,   49, -207],\n",
       "       [ 103, -331,   99, -312,  -73, -463, -117,  -19,  276,  259],\n",
       "       [ 143, -438, -303, -350, -283,  364,  167, -110, -215,  429],\n",
       "       [ 459, -233, -173, -401, -208, -220, -442,  126,  358,  342],\n",
       "       [ 398,  -50, -168,   21,  314, -368,  165,   -5, -455,  245]])"
      ]
     },
     "execution_count": 7,
     "metadata": {
      "tags": []
     },
     "output_type": "execute_result"
    }
   ],
   "source": [
    "#random matrix\n",
    "A = np.random.randint(-500,500, size=(10,10));A"
   ]
  },
  {
   "cell_type": "markdown",
   "metadata": {},
   "source": [
    "### Below Code segment shows the runtime improvements to traditional LLL algorithm by also proving outputs remain the same."
   ]
  },
  {
   "cell_type": "code",
   "execution_count": null,
   "metadata": {
    "colab": {
     "base_uri": "https://localhost:8080/"
    },
    "id": "DLHgN-bneQ3E",
    "outputId": "402c7ccf-412b-4001-c012-8695438dded3"
   },
   "outputs": [
    {
     "name": "stdout",
     "output_type": "stream",
     "text": [
      "4.0514125999834505\n"
     ]
    }
   ],
   "source": [
    "print(timeit.timeit('reduction_(list(A))', globals=globals(), number=1)*100)"
   ]
  },
  {
   "cell_type": "code",
   "execution_count": null,
   "metadata": {
    "colab": {
     "base_uri": "https://localhost:8080/"
    },
    "id": "YYF1TwrE2tNg",
    "outputId": "2a65a07e-f34f-40e9-94a5-f5124b3efba7"
   },
   "outputs": [
    {
     "name": "stdout",
     "output_type": "stream",
     "text": [
      "21.283085300092353\n"
     ]
    }
   ],
   "source": [
    "print(timeit.timeit('reduction(list(A))', globals=globals(), number=1)*100)"
   ]
  },
  {
   "cell_type": "code",
   "execution_count": null,
   "metadata": {
    "colab": {
     "base_uri": "https://localhost:8080/"
    },
    "id": "VuLBbu1K3L-5",
    "outputId": "d159873c-804c-4092-bbaf-000f97ce4356"
   },
   "outputs": [
    {
     "data": {
      "text/plain": [
       "True"
      ]
     },
     "execution_count": 18,
     "metadata": {
      "tags": []
     },
     "output_type": "execute_result"
    }
   ],
   "source": [
    "np.array_equal(np.array(reduction(list(A)))-np.array(reduction_(list(A))),np.zeros((10,10)))"
   ]
  },
  {
   "cell_type": "code",
   "execution_count": null,
   "metadata": {
    "colab": {
     "base_uri": "https://localhost:8080/"
    },
    "id": "eR-30mAo202K",
    "outputId": "f50eb7f5-90ca-407e-9449-fa195718371c"
   },
   "outputs": [
    {
     "data": {
      "text/plain": [
       "[[-59, 292, -151, -30, 105, -147, -71, 178, -52, -22],\n",
       " [22, 84, -46, -68, 138, -135, -260, 21, 239, 281],\n",
       " [225, -120, 56, 106, 48, 250, 90, 131, 154, 278],\n",
       " [-148, 85, 229, -87, -20, -16, -1, 144, 121, -195],\n",
       " [242, 2, 34, 63, -331, -193, 55, 34, 325, 52],\n",
       " [-247, 243, -50, 168, 58, 225, -162, -269, -139, -234],\n",
       " [92, 219, 160, -153, -58, 320, -110, -35, 133, 232],\n",
       " [-196, -134, 292, 224, -112, -80, -77, 204, -193, 119],\n",
       " [175, -328, -52, 7, -202, 54, -145, 146, 122, -322],\n",
       " [-304, 12, -196, -195, 84, 205, -128, 274, 96, 110]]"
      ]
     },
     "execution_count": 12,
     "metadata": {
      "tags": []
     },
     "output_type": "execute_result"
    }
   ],
   "source": [
    "reduction(list(A))"
   ]
  },
  {
   "cell_type": "code",
   "execution_count": null,
   "metadata": {
    "colab": {
     "base_uri": "https://localhost:8080/"
    },
    "id": "XdQJXqth27YR",
    "outputId": "f481f841-f401-4dd6-9a94-70d6a07ecef6"
   },
   "outputs": [
    {
     "data": {
      "text/plain": [
       "[[-59, 292, -151, -30, 105, -147, -71, 178, -52, -22],\n",
       " [22, 84, -46, -68, 138, -135, -260, 21, 239, 281],\n",
       " [225, -120, 56, 106, 48, 250, 90, 131, 154, 278],\n",
       " [-148, 85, 229, -87, -20, -16, -1, 144, 121, -195],\n",
       " [242, 2, 34, 63, -331, -193, 55, 34, 325, 52],\n",
       " [-247, 243, -50, 168, 58, 225, -162, -269, -139, -234],\n",
       " [92, 219, 160, -153, -58, 320, -110, -35, 133, 232],\n",
       " [-196, -134, 292, 224, -112, -80, -77, 204, -193, 119],\n",
       " [175, -328, -52, 7, -202, 54, -145, 146, 122, -322],\n",
       " [-304, 12, -196, -195, 84, 205, -128, 274, 96, 110]]"
      ]
     },
     "execution_count": 13,
     "metadata": {
      "tags": []
     },
     "output_type": "execute_result"
    }
   ],
   "source": [
    "reduction_(list(A))"
   ]
  },
  {
   "cell_type": "markdown",
   "metadata": {},
   "source": [
    "## Runtime Analysis"
   ]
  },
  {
   "cell_type": "code",
   "execution_count": null,
   "metadata": {
    "colab": {
     "base_uri": "https://localhost:8080/"
    },
    "id": "giXQ8CbdwAQB",
    "outputId": "048e4a73-e1de-45d2-e299-8fcedc7bac57"
   },
   "outputs": [
    {
     "name": "stdout",
     "output_type": "stream",
     "text": [
      "2 0.021317060999990645\n",
      "4 0.1219896659999904\n",
      "6 0.41546354100000826\n",
      "8 0.967061770999976\n",
      "10 1.7714739649999274\n",
      "12 3.022991384999955\n",
      "14 4.636518113999955\n",
      "16 6.566219217000025\n",
      "18 9.01846535900006\n",
      "20 11.74763413200003\n",
      "22 14.577808471000026\n",
      "24 17.588624621000008\n",
      "26 21.84994601699998\n",
      "28 25.394578732000014\n",
      "30 29.92287170299994\n",
      "32 32.738089220000006\n",
      "34 43.10965722100002\n",
      "36 46.28200038\n",
      "38 55.28712121900003\n",
      "40 59.89792254400004\n",
      "42 67.81528400799994\n",
      "44 75.62608244900014\n",
      "46 81.90557611400004\n",
      "48 91.168513394\n"
     ]
    }
   ],
   "source": [
    "for size in range(2, 50, 2):\n",
    "  print(size,timeit.timeit('reduction_(list(np.random.randint(-500,500, size=(size,size))))', globals=globals(), number=100))"
   ]
  },
  {
   "cell_type": "code",
   "execution_count": null,
   "metadata": {
    "colab": {
     "background_save": true,
     "base_uri": "https://localhost:8080/"
    },
    "id": "DWFSluGmTUqP",
    "outputId": "ad4d3835-879c-42da-8774-69a7eb89e103"
   },
   "outputs": [
    {
     "name": "stdout",
     "output_type": "stream",
     "text": [
      "48 99.68251711999983\n",
      "48 124.79078937700069\n",
      "48 153.87160797900015\n",
      "48 190.1029419180004\n",
      "48 226.5494457069999\n",
      "48 269.77999819399975\n",
      "48 307.8089243200002\n",
      "48 368.6115573240004\n",
      "48 435.73936380099985\n",
      "48 477.45664181699976\n",
      "48 499.2344346310001\n"
     ]
    }
   ],
   "source": [
    "print(size,timeit.timeit('reduction_(list(np.random.randint(-500,500, size=(50,50))))', globals=globals(), number=100))\n",
    "print(size,timeit.timeit('reduction_(list(np.random.randint(-500,500, size=(55,55))))', globals=globals(), number=100))\n",
    "print(size,timeit.timeit('reduction_(list(np.random.randint(-500,500, size=(60,60))))', globals=globals(), number=100))\n",
    "print(size,timeit.timeit('reduction_(list(np.random.randint(-500,500, size=(65,65))))', globals=globals(), number=100))\n",
    "print(size,timeit.timeit('reduction_(list(np.random.randint(-500,500, size=(70,70))))', globals=globals(), number=100))\n",
    "print(size,timeit.timeit('reduction_(list(np.random.randint(-500,500, size=(75,75))))', globals=globals(), number=100))\n",
    "print(size,timeit.timeit('reduction_(list(np.random.randint(-500,500, size=(80,80))))', globals=globals(), number=100))\n",
    "print(size,timeit.timeit('reduction_(list(np.random.randint(-500,500, size=(85,85))))', globals=globals(), number=100))\n",
    "print(size,timeit.timeit('reduction_(list(np.random.randint(-500,500, size=(90,90))))', globals=globals(), number=100))\n",
    "print(size,timeit.timeit('reduction_(list(np.random.randint(-500,500, size=(95,95))))', globals=globals(), number=100))\n",
    "print(size,timeit.timeit('reduction_(list(np.random.randint(-500,500, size=(100,100))))', globals=globals(), number=100))"
   ]
  },
  {
   "cell_type": "markdown",
   "metadata": {},
   "source": [
    "## Perturbation Analysis"
   ]
  },
  {
   "cell_type": "code",
   "execution_count": null,
   "metadata": {
    "colab": {
     "base_uri": "https://localhost:8080/"
    },
    "id": "zNAENQwNHe-W",
    "outputId": "f3610096-04a7-4524-cb6b-42567fc1123a"
   },
   "outputs": [
    {
     "name": "stdout",
     "output_type": "stream",
     "text": [
      "2.0713615989999994\n"
     ]
    }
   ],
   "source": [
    "print(timeit.timeit('reduction_(list(A+ np.round( np.random.normal(0, 1, size = (10, 10))).astype(int)))', globals=globals(), number=100))"
   ]
  },
  {
   "cell_type": "code",
   "execution_count": null,
   "metadata": {
    "colab": {
     "base_uri": "https://localhost:8080/"
    },
    "id": "24W8lL6THJiG",
    "outputId": "d970ad25-4f2c-4983-d60d-03bc4cc9abb9"
   },
   "outputs": [
    {
     "name": "stdout",
     "output_type": "stream",
     "text": [
      "2.0754793600000028\n"
     ]
    }
   ],
   "source": [
    "print(timeit.timeit('reduction_(list(A+ np.round( np.random.normal(0, 5, size = (10, 10))).astype(int)))', globals=globals(), number=100))"
   ]
  },
  {
   "cell_type": "code",
   "execution_count": null,
   "metadata": {
    "colab": {
     "base_uri": "https://localhost:8080/"
    },
    "id": "LHbqOK5tHJlS",
    "outputId": "44bd0b0f-cd15-499b-f42d-c074dc35bee0"
   },
   "outputs": [
    {
     "name": "stdout",
     "output_type": "stream",
     "text": [
      "2.15133818999999\n"
     ]
    }
   ],
   "source": [
    "print(timeit.timeit('reduction_(list(A+ np.round( np.random.normal(0, 10, size = (10, 10))).astype(int)))', globals=globals(), number=100))"
   ]
  },
  {
   "cell_type": "code",
   "execution_count": null,
   "metadata": {
    "colab": {
     "base_uri": "https://localhost:8080/"
    },
    "id": "Dn7vP2jyqMEc",
    "outputId": "b6876ef9-b339-49b1-b6dd-63534bf907ca"
   },
   "outputs": [
    {
     "name": "stdout",
     "output_type": "stream",
     "text": [
      "2.220706313999983\n"
     ]
    }
   ],
   "source": [
    "print(timeit.timeit('reduction_(list(A+ np.round( np.random.normal(0, 15, size = (10, 10))).astype(int)))', globals=globals(), number=100))"
   ]
  },
  {
   "cell_type": "code",
   "execution_count": null,
   "metadata": {
    "colab": {
     "base_uri": "https://localhost:8080/"
    },
    "id": "tdalQOl_EGK1",
    "outputId": "c6aea9a2-2e85-4875-8273-8f9e044ab088"
   },
   "outputs": [
    {
     "name": "stdout",
     "output_type": "stream",
     "text": [
      "2.2677699930000017\n"
     ]
    }
   ],
   "source": [
    "print(timeit.timeit('reduction_(list(A+ np.round( np.random.normal(0, 20, size = (10, 10))).astype(int)))', globals=globals(), number=100))"
   ]
  },
  {
   "cell_type": "markdown",
   "metadata": {},
   "source": [
    "## 100 loop average"
   ]
  },
  {
   "cell_type": "code",
   "execution_count": null,
   "metadata": {
    "colab": {
     "base_uri": "https://localhost:8080/"
    },
    "id": "fNh_QLcPR4d2",
    "outputId": "f8519ac4-c170-47cf-8b9d-c9f522e53998"
   },
   "outputs": [
    {
     "name": "stdout",
     "output_type": "stream",
     "text": [
      "n = 10\n",
      "Without Perturbation 0.028041857999937747\n",
      "Perturbation with variance 0.005 : 0.022814168000081736\n",
      "Perturbation with variance 0.05 : 0.014721179000048323\n",
      "Perturbation with variance 0.1 : 0.019488371999955234\n",
      "Perturbation with variance 0.15 : 0.024466083999982402\n",
      "n = 20\n",
      "Without Perturbation 0.10029082200003359\n",
      "Perturbation with variance 0.005 : 0.11566721300005156\n",
      "Perturbation with variance 0.05 : 0.15079269900002146\n",
      "Perturbation with variance 0.1 : 0.13978861499992945\n",
      "Perturbation with variance 0.15 : 0.081812760000048\n",
      "n = 30\n",
      "Without Perturbation 0.4132371800000101\n",
      "Perturbation with variance 0.005 : 0.5549624600000698\n",
      "Perturbation with variance 0.05 : 0.38297824300002503\n",
      "Perturbation with variance 0.1 : 0.36606427399999575\n",
      "Perturbation with variance 0.15 : 0.3010794660000329\n",
      "n = 40\n",
      "Without Perturbation 0.4308978249999882\n",
      "Perturbation with variance 0.005 : 0.7619733989999986\n",
      "Perturbation with variance 0.05 : 0.653329857000017\n",
      "Perturbation with variance 0.1 : 0.7411982780000699\n",
      "Perturbation with variance 0.15 : 0.9018833850000192\n",
      "n = 50\n",
      "Without Perturbation 1.1909221519999846\n",
      "Perturbation with variance 0.005 : 0.6735623940001005\n",
      "Perturbation with variance 0.05 : 1.143616124999994\n",
      "Perturbation with variance 0.1 : 0.9143109210000375\n",
      "Perturbation with variance 0.15 : 1.6079597699999795\n",
      "n = 60\n",
      "Without Perturbation 0.9702910110000857\n",
      "Perturbation with variance 0.005 : 0.9681711030000315\n",
      "Perturbation with variance 0.05 : 1.4846592930000497\n",
      "Perturbation with variance 0.1 : 1.1100752570000623\n",
      "Perturbation with variance 0.15 : 1.354166417999977\n",
      "n = 70\n",
      "Without Perturbation 3.413797337999995\n",
      "Perturbation with variance 0.005 : 3.204480836000016\n",
      "Perturbation with variance 0.05 : 3.157846532999997\n",
      "Perturbation with variance 0.1 : 2.190027746999931\n",
      "Perturbation with variance 0.15 : 2.4354787720000104\n",
      "n = 80\n",
      "Without Perturbation 2.995495234000032\n",
      "Perturbation with variance 0.005 : 5.54802694\n",
      "Perturbation with variance 0.05 : 2.6323215240000764\n",
      "Perturbation with variance 0.1 : 2.9270701030000055\n",
      "Perturbation with variance 0.15 : 1.669886353000038\n",
      "n = 90\n",
      "Without Perturbation 4.575030499999912\n",
      "Perturbation with variance 0.005 : 4.114353370999993\n",
      "Perturbation with variance 0.05 : 3.1364441480000096\n",
      "Perturbation with variance 0.1 : 3.332391024000003\n",
      "Perturbation with variance 0.15 : 4.948900156000036\n",
      "n = 100\n",
      "Without Perturbation 3.838851051000006\n",
      "Perturbation with variance 0.005 : 5.504885669000032\n",
      "Perturbation with variance 0.05 : 5.505986925999991\n",
      "Perturbation with variance 0.1 : 2.6525966859999244\n",
      "Perturbation with variance 0.15 : 4.753288864000069\n"
     ]
    }
   ],
   "source": [
    "variances = [0.005, 0.05, 0.1, 0.15]\n",
    "for dim in range(10, 110, 10):\n",
    "  print('n =',dim)\n",
    "  A = np.random.randint(-500,500, size=(dim,dim))\n",
    "  print('Without Perturbation',timeit.timeit('reduction_(list(A))', globals=globals(), number=1))\n",
    "  for var in variances: \n",
    "    print('Perturbation with variance', var,':',timeit.timeit('reduction_(list(A+ np.round( np.random.normal(0, var*1000, size = (dim, dim))).astype(int)))', \n",
    "                                                              globals=globals(), number=1))"
   ]
  },
  {
   "cell_type": "markdown",
   "metadata": {},
   "source": [
    "## 5 loop Average"
   ]
  },
  {
   "cell_type": "code",
   "execution_count": null,
   "metadata": {
    "colab": {
     "base_uri": "https://localhost:8080/"
    },
    "id": "WHgjyAs1cjPO",
    "outputId": "6f277121-615e-4571-af06-fd985736fd0e"
   },
   "outputs": [
    {
     "name": "stdout",
     "output_type": "stream",
     "text": [
      "n = 10\n",
      "Without Perturbation 0.07240303899970968\n",
      "Perturbation with variance 0.005 : 0.08818638899992948\n",
      "Perturbation with variance 0.05 : 0.07674716800011083\n",
      "Perturbation with variance 0.1 : 0.11186524799995823\n",
      "Perturbation with variance 0.15 : 0.11688001299989992\n",
      "n = 20\n",
      "Without Perturbation 0.43530981899994003\n",
      "Perturbation with variance 0.005 : 0.4633359650001694\n",
      "Perturbation with variance 0.05 : 0.5764894160001859\n",
      "Perturbation with variance 0.1 : 0.6791513889997987\n",
      "Perturbation with variance 0.15 : 0.8190752529999372\n",
      "n = 30\n",
      "Without Perturbation 1.2768563390000054\n",
      "Perturbation with variance 0.005 : 1.4077524829999675\n",
      "Perturbation with variance 0.05 : 1.5896210319997408\n",
      "Perturbation with variance 0.1 : 1.2427238589998524\n",
      "Perturbation with variance 0.15 : 1.4968038869997145\n",
      "n = 40\n",
      "Without Perturbation 2.641454993000025\n",
      "Perturbation with variance 0.005 : 2.6851590360001865\n",
      "Perturbation with variance 0.05 : 2.7836926769996353\n",
      "Perturbation with variance 0.1 : 3.779873071000111\n",
      "Perturbation with variance 0.15 : 2.4654112939997503\n",
      "n = 50\n",
      "Without Perturbation 3.381647343000168\n",
      "Perturbation with variance 0.005 : 3.308445772000141\n",
      "Perturbation with variance 0.05 : 4.249849165999876\n",
      "Perturbation with variance 0.1 : 5.266335634999905\n",
      "Perturbation with variance 0.15 : 5.662596186999963\n",
      "n = 60\n",
      "Without Perturbation 7.00733316700007\n",
      "Perturbation with variance 0.005 : 7.0646981280001455\n",
      "Perturbation with variance 0.05 : 7.280989524999768\n",
      "Perturbation with variance 0.1 : 9.220742603999952\n",
      "Perturbation with variance 0.15 : 9.939984514000116\n",
      "n = 70\n",
      "Without Perturbation 10.995544058000178\n",
      "Perturbation with variance 0.005 : 10.903389410999807\n",
      "Perturbation with variance 0.05 : 11.677981767999881\n",
      "Perturbation with variance 0.1 : 10.014309349000087\n",
      "Perturbation with variance 0.15 : 13.625234840000303\n",
      "n = 80\n",
      "Without Perturbation 17.477825305999886\n",
      "Perturbation with variance 0.005 : 18.215220133000003\n",
      "Perturbation with variance 0.05 : 13.90645259699977\n",
      "Perturbation with variance 0.1 : 14.795996306000234\n",
      "Perturbation with variance 0.15 : 18.98919184799979\n",
      "n = 90\n",
      "Without Perturbation 26.711938339000426\n",
      "Perturbation with variance 0.005 : 26.28367566299994\n",
      "Perturbation with variance 0.05 : 23.28571041999976\n",
      "Perturbation with variance 0.1 : 24.162804786999914\n",
      "Perturbation with variance 0.15 : 20.67274737400021\n",
      "n = 100\n",
      "Without Perturbation 31.41724231399985\n",
      "Perturbation with variance 0.005 : 30.294841714000086\n",
      "Perturbation with variance 0.05 : 31.958382551999875\n",
      "Perturbation with variance 0.1 : 31.76035851800043\n",
      "Perturbation with variance 0.15 : 31.164949458000137\n"
     ]
    }
   ],
   "source": [
    "variances = [0.005, 0.05, 0.1, 0.15]\n",
    "for dim in range(10, 110, 10):\n",
    "  print('n =',dim)\n",
    "  A = np.random.randint(-500,500, size=(dim,dim))\n",
    "  print('Without Perturbation',timeit.timeit('reduction_(list(A))', globals=globals(), number=5))\n",
    "  for var in variances: \n",
    "    print('Perturbation with variance', var,':',timeit.timeit('reduction_(list(A+ np.round( np.random.normal(0, var*1000, size = (dim, dim))).astype(int)))', \n",
    "                                                              globals=globals(), number=5))"
   ]
  }
 ],
 "metadata": {
  "colab": {
   "collapsed_sections": [],
   "name": "Copy of LLL.ipynb",
   "provenance": []
  },
  "kernelspec": {
   "display_name": "Python 3",
   "language": "python",
   "name": "python3"
  },
  "language_info": {
   "codemirror_mode": {
    "name": "ipython",
    "version": 3
   },
   "file_extension": ".py",
   "mimetype": "text/x-python",
   "name": "python",
   "nbconvert_exporter": "python",
   "pygments_lexer": "ipython3",
   "version": "3.8.5"
  }
 },
 "nbformat": 4,
 "nbformat_minor": 1
}
